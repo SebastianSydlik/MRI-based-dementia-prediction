{
 "cells": [
  {
   "cell_type": "code",
   "execution_count": 1,
   "id": "3456da09",
   "metadata": {},
   "outputs": [],
   "source": [
    "import pandas as pd\n",
    "import numpy as np\n",
    "import os \n",
    "import mlflow\n",
    "\n",
    "from sklearn.model_selection import train_test_split\n",
    "from sklearn.feature_extraction import DictVectorizer\n"
   ]
  },
  {
   "cell_type": "code",
   "execution_count": 22,
   "id": "f25ab29b",
   "metadata": {},
   "outputs": [],
   "source": [
    "cwd = os.getcwd()\n",
    "\n",
    "path_cross = cwd+'/data/oasis_cross-sectional.csv'\n",
    "path_long = cwd+'/data/oasis_longitudinal.csv'\n",
    "\n",
    "df_cross = pd.read_csv(path_cross,sep=\",\", engine=\"python\", on_bad_lines=\"skip\") \n",
    "df_long = pd.read_csv(path_long,sep=\",\", engine=\"python\", on_bad_lines=\"skip\") \n",
    "\n",
    "#cleaning columns\n",
    "df_cross.columns = df_cross.columns.str.replace(' ', '_').str.lower()\n",
    "df_long.columns = df_long.columns.str.replace(' ', '_').str.lower()\n",
    "\n",
    "new_column_names = {\n",
    "                    'subject_id': 'id',\n",
    "                    'mr_delay': 'delay'\n",
    "                    }\n",
    "\n",
    "df_long.rename(columns=new_column_names, inplace=True)\n",
    "\n",
    "new_column_order = ['id', 'm/f', 'hand', 'age', 'educ', 'ses', 'mmse', 'cdr', 'etiv',\n",
    "        'nwbv', 'asf', 'delay', 'mri_id', 'group', 'visit']\n",
    "\n",
    "df_long = df_long[new_column_order]\n",
    "\n",
    "df = pd.merge(df_cross, df_long, on=['id', 'm/f', 'hand', 'age', 'educ', 'ses', 'mmse', 'cdr', 'etiv',\n",
    "        'nwbv', 'asf', 'delay'], how='outer')\n",
    "\n",
    "#drop cols without information\n",
    "df_clean = df.drop(columns=['hand', 'delay', 'id', 'mri_id','group','visit'])\n",
    "df_clean = df_clean.dropna(subset=['cdr'])\n",
    "df_clean = df_clean.dropna(subset=['mmse'])\n",
    "df_clean['m/f'] = (df_clean['m/f'] == \"M\").astype(int)\n",
    "df_clean=df_clean.fillna(0)\n",
    "\n",
    "#create fusion target variable\n",
    "df_clean['target']=np.log1p((df_clean['cdr']+0.5)/df_clean['mmse'])\n",
    "dementia_threshold = np.log1p(1.5/26)\n",
    "df_clean['target'] = (df_clean['target'] > dementia_threshold).astype(int)\n",
    "\n",
    "MRI = [\"etiv\", \"nwbv\"]\n",
    "general_info = [\"m/f\", \"age\", \"educ\", \"ses\"]\n",
    "#MRI = []\n",
    "df_clean = df_clean[MRI+ general_info + ['target']]\n",
    "\n"
   ]
  },
  {
   "cell_type": "code",
   "execution_count": 3,
   "id": "8a922057",
   "metadata": {},
   "outputs": [
    {
     "data": {
      "text/plain": [
       "201"
      ]
     },
     "execution_count": 3,
     "metadata": {},
     "output_type": "execute_result"
    }
   ],
   "source": [
    "#when cdr is NaN, mmse is also Nan - hence all rows with cdr is NaN can be discarded as they have no target value.\n",
    "num_target_NaN = (df['mmse'].isna() & df['cdr'].isna()).sum()\n",
    "num_target_NaN"
   ]
  },
  {
   "cell_type": "code",
   "execution_count": 4,
   "id": "bd45dfe9",
   "metadata": {},
   "outputs": [],
   "source": [
    "#import seaborn as sns\n",
    "#import matplotlib.pyplot as plt\n",
    "#sns.histplot(df_clean['target'], bins=150,kde=True)\n",
    "#plt.xlim(0, 0.1)\n",
    "#plt.show()\n"
   ]
  },
  {
   "cell_type": "code",
   "execution_count": 23,
   "id": "5867bb40",
   "metadata": {},
   "outputs": [],
   "source": [
    "seed = 42\n",
    "df_full_train, df_test = train_test_split(df_clean, test_size=0.2, random_state=seed)\n",
    "df_train, df_val = train_test_split(df_full_train, test_size=0.25, random_state=seed)\n",
    "\n",
    "df_full_train = df_full_train.reset_index(drop=True)\n",
    "df_train = df_train.reset_index(drop=True)\n",
    "df_val = df_val.reset_index(drop=True)\n",
    "df_test = df_test.reset_index(drop=True)\n",
    "\n",
    "y_full_train = df_full_train.target\n",
    "y_train = df_train.target\n",
    "y_val = df_val.target\n",
    "y_test = df_test.target\n",
    "\n",
    "df_full_train = df_full_train.drop(columns = ['target'])\n",
    "df_train = df_train.drop(columns = ['target'])\n",
    "df_val = df_val.drop(columns = ['target'])\n",
    "df_test = df_test.drop(columns = ['target'])\n",
    "\n",
    "X_train = df_train\n",
    "X_val = df_val"
   ]
  },
  {
   "cell_type": "code",
   "execution_count": 17,
   "id": "8018c84e",
   "metadata": {},
   "outputs": [
    {
     "name": "stderr",
     "output_type": "stream",
     "text": [
      "/home/codespace/anaconda3/lib/python3.9/site-packages/sklearn/svm/_base.py:1206: ConvergenceWarning: Liblinear failed to converge, increase the number of iterations.\n",
      "  warnings.warn(\n"
     ]
    },
    {
     "data": {
      "text/plain": [
       "0.8842975206611571"
      ]
     },
     "execution_count": 17,
     "metadata": {},
     "output_type": "execute_result"
    }
   ],
   "source": [
    "from sklearn.linear_model import LogisticRegression, Ridge\n",
    "model = LogisticRegression(solver='liblinear', C=10, max_iter=5, random_state=42)\n",
    "\n",
    "model.fit(X_train, y_train)\n",
    "y_pred = model.predict(X_val)\n",
    "result = (y_pred==y_val)\n",
    "accuracy = sum(result)/len(result)\n",
    "accuracy"
   ]
  },
  {
   "cell_type": "code",
   "execution_count": 21,
   "id": "14af856f",
   "metadata": {},
   "outputs": [],
   "source": [
    "import pickle\n",
    "\n",
    "with open('./output/train.pkl', 'wb') as f_out:\n",
    "   pickle.dump((X_train,y_train), f_out)\n",
    "f_out.close()\n",
    "\n",
    "with open('./output/val.pkl', 'wb') as f_out:\n",
    "   pickle.dump((X_val,y_val), f_out)\n",
    "f_out.close()"
   ]
  }
 ],
 "metadata": {
  "kernelspec": {
   "display_name": "Python 3 (ipykernel)",
   "language": "python",
   "name": "python3"
  },
  "language_info": {
   "codemirror_mode": {
    "name": "ipython",
    "version": 3
   },
   "file_extension": ".py",
   "mimetype": "text/x-python",
   "name": "python",
   "nbconvert_exporter": "python",
   "pygments_lexer": "ipython3",
   "version": "3.9.12"
  }
 },
 "nbformat": 4,
 "nbformat_minor": 5
}
