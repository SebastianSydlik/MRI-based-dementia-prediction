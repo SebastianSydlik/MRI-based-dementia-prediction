{
 "cells": [
  {
   "cell_type": "code",
   "execution_count": 7,
   "metadata": {},
   "outputs": [],
   "source": [
    "import mlflow\n",
    "\n",
    "from mlflow.tracking import MlflowClient\n",
    "\n",
    "mlflow.set_tracking_uri(\"http://localhost:5000\")\n",
    "mlflow.set_experiment(\"C\")\n",
    "\n",
    "MLFLOW_TRACKING_URI = \"http://localhost:5000\"\n",
    "client = MlflowClient(tracking_uri=MLFLOW_TRACKING_URI)"
   ]
  },
  {
   "cell_type": "code",
   "execution_count": 8,
   "metadata": {},
   "outputs": [],
   "source": [
    "from mlflow.entities import ViewType\n",
    "\n",
    "runs = client.search_runs(\n",
    "    experiment_ids='5',    # Experiment ID we want\n",
    "    #filter_string=\"metrics.recall > 0.7\",\n",
    "    filter_string=\"metrics.f1 > 0.3\",\n",
    "    run_view_type=ViewType.ACTIVE_ONLY,\n",
    "    max_results=5,\n",
    "    #order_by=[\"metrics.recall ASC\"]\n",
    "    order_by=[\"metrics.f1 ASC\"]\n",
    ")"
   ]
  },
  {
   "cell_type": "code",
   "execution_count": 9,
   "metadata": {},
   "outputs": [
    {
     "name": "stdout",
     "output_type": "stream",
     "text": [
      "run id: de22006e68584f8b80632138d4ccd928, f1: 0.3478\n",
      "run id: 533f3371b707417f8864efcd7d30d060, f1: 0.3478\n",
      "run id: 0e308892254b405c90971e0aab2ef7aa, f1: 0.3478\n",
      "run id: 04239d9115c645c683bb35054f9cd2a5, f1: 0.3478\n"
     ]
    }
   ],
   "source": [
    "for run in runs:\n",
    "    print(f\"run id: {run.info.run_id}, f1: {run.data.metrics['f1']:.4f}\")"
   ]
  },
  {
   "cell_type": "code",
   "execution_count": 10,
   "metadata": {},
   "outputs": [
    {
     "data": {
      "text/plain": [
       "'de22006e68584f8b80632138d4ccd928'"
      ]
     },
     "execution_count": 10,
     "metadata": {},
     "output_type": "execute_result"
    }
   ],
   "source": [
    "runs[0].info.run_id"
   ]
  },
  {
   "cell_type": "code",
   "execution_count": 11,
   "metadata": {},
   "outputs": [
    {
     "name": "stdout",
     "output_type": "stream",
     "text": [
      "runs:/de22006e68584f8b80632138d4ccd928/models_mlflow\n"
     ]
    }
   ],
   "source": [
    "logged_model = 'runs:/' + runs[0].info.run_id + '/models_mlflow'\n",
    "\n",
    "print(logged_model)\n",
    "\n",
    "# Load model as a PyFuncModel.\n",
    "loaded_model = mlflow.pyfunc.load_model(logged_model)"
   ]
  },
  {
   "cell_type": "code",
   "execution_count": 12,
   "metadata": {},
   "outputs": [
    {
     "name": "stdout",
     "output_type": "stream",
     "text": [
      "   etiv   nwbv  m/f  age  educ  ses\n",
      "0  1402  0.822    0   60  18.0  1.0\n",
      "1  1636  0.680    1   74  18.0  2.0\n",
      "2  1549  0.730    0   71   4.0  1.0\n",
      "3  1345  0.737    0   81  13.0  2.0\n",
      "4  1832  0.769    1   76  16.0  3.0\n",
      "5  1641  0.703    1   84   2.0  0.0\n",
      "6  1508  0.805    0   67   3.0  4.0\n",
      "7  1470  0.687    0   81  18.0  2.0\n",
      "8  1307  0.679    1   90  12.0  3.0\n",
      "9  1713  0.761    1   77   5.0  1.0\n"
     ]
    }
   ],
   "source": [
    "import pickle\n",
    "with open('./pickle/val.pkl', 'rb') as f_in:\n",
    "    X_val,y_val = pickle.load(f_in)\n",
    "print(X_val[0:10])"
   ]
  },
  {
   "cell_type": "code",
   "execution_count": 1,
   "metadata": {},
   "outputs": [
    {
     "data": {
      "text/html": [
       "<div>\n",
       "<style scoped>\n",
       "    .dataframe tbody tr th:only-of-type {\n",
       "        vertical-align: middle;\n",
       "    }\n",
       "\n",
       "    .dataframe tbody tr th {\n",
       "        vertical-align: top;\n",
       "    }\n",
       "\n",
       "    .dataframe thead th {\n",
       "        text-align: right;\n",
       "    }\n",
       "</style>\n",
       "<table border=\"1\" class=\"dataframe\">\n",
       "  <thead>\n",
       "    <tr style=\"text-align: right;\">\n",
       "      <th></th>\n",
       "      <th>m/f</th>\n",
       "      <th>age</th>\n",
       "      <th>educ</th>\n",
       "      <th>ses</th>\n",
       "      <th>etiv</th>\n",
       "      <th>nwbv</th>\n",
       "    </tr>\n",
       "  </thead>\n",
       "  <tbody>\n",
       "    <tr>\n",
       "      <th>0</th>\n",
       "      <td>1</td>\n",
       "      <td>99</td>\n",
       "      <td>2.0</td>\n",
       "      <td>0.0</td>\n",
       "      <td>1500</td>\n",
       "      <td>0.1</td>\n",
       "    </tr>\n",
       "  </tbody>\n",
       "</table>\n",
       "</div>"
      ],
      "text/plain": [
       "   m/f  age  educ  ses  etiv  nwbv\n",
       "0    1   99   2.0  0.0  1500   0.1"
      ]
     },
     "execution_count": 1,
     "metadata": {},
     "output_type": "execute_result"
    }
   ],
   "source": [
    "import pandas as pd\n",
    "patient = {\n",
    "    'm/f': 1,\n",
    "    'age': 99,\n",
    "    'educ':2.0,\n",
    "    'ses': 0.0,\n",
    "    'etiv': 1500,\n",
    "    'nwbv': 0.1,    \n",
    "}\n",
    "X_patient = pd.DataFrame.from_dict([patient])\n",
    "X_patient"
   ]
  },
  {
   "cell_type": "code",
   "execution_count": 14,
   "metadata": {},
   "outputs": [
    {
     "name": "stdout",
     "output_type": "stream",
     "text": [
      "[1] [0 0 0 0 0 1 0 0 0 1 0 0 0 0 0 0 0 0 0 1 0 0 0 0 0 0 0 0 0 0 0 0 0 0 0 0 0\n",
      " 0 1 0 0 0 0 0 0 0 0 1 0 0 0 0 0 0 0 0 0 0 0 0 0 1 0 0 0 0 0 0 0 0 0 0 0 0\n",
      " 0 0 0]\n"
     ]
    }
   ],
   "source": [
    "import numpy as np\n",
    "# Predict on a Pandas DataFrame.\n",
    "y_pred = loaded_model.predict(X_patient)\n",
    "\n",
    "dementia_threshold = np.log1p(1.5 / 26)\n",
    "y_pred = (y_pred > dementia_threshold).astype(int)\n",
    "print(y_pred, y_val.to_numpy())"
   ]
  },
  {
   "cell_type": "code",
   "execution_count": null,
   "metadata": {},
   "outputs": [],
   "source": [
    "#mlflow.set_tracking_uri(MLFLOW_TRACKING_URI)\n",
    "\n",
    "run_id = \"70cc9d23610d4dd9969187cbfabb08a1\"\n",
    "model_uri = f\"runs:/{run_id}/models\"\n",
    "mlflow.register_model(model_uri=model_uri, name=\"MRI_predictor\")"
   ]
  }
 ],
 "metadata": {
  "kernelspec": {
   "display_name": "Python 3",
   "language": "python",
   "name": "python3"
  },
  "language_info": {
   "codemirror_mode": {
    "name": "ipython",
    "version": 3
   },
   "file_extension": ".py",
   "mimetype": "text/x-python",
   "name": "python",
   "nbconvert_exporter": "python",
   "pygments_lexer": "ipython3",
   "version": "3.9.12"
  }
 },
 "nbformat": 4,
 "nbformat_minor": 2
}
