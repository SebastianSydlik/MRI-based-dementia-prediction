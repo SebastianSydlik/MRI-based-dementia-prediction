{
 "cells": [
  {
   "cell_type": "code",
   "execution_count": 1,
   "metadata": {},
   "outputs": [],
   "source": [
    "import mlflow\n",
    "\n",
    "from mlflow.tracking import MlflowClient\n",
    "\n",
    "MLFLOW_TRACKING_URI = \"http://localhost:5000\"\n",
    "mlflow.set_tracking_uri(MLFLOW_TRACKING_URI)\n",
    "mlflow.set_experiment(\"C\")\n",
    "\n",
    "client = MlflowClient(tracking_uri=MLFLOW_TRACKING_URI)"
   ]
  },
  {
   "cell_type": "code",
   "execution_count": 2,
   "metadata": {},
   "outputs": [],
   "source": [
    "from mlflow.entities import ViewType\n",
    "\n",
    "runs = client.search_runs(\n",
    "    experiment_ids='5',    # Experiment ID we want\n",
    "    #filter_string=\"metrics.recall > 0.7\",\n",
    "    filter_string=\"metrics.f1 > 0.3\",\n",
    "    run_view_type=ViewType.ACTIVE_ONLY,\n",
    "    max_results=5,\n",
    "    #order_by=[\"metrics.recall ASC\"]\n",
    "    order_by=[\"metrics.f1 ASC\"]\n",
    ")"
   ]
  },
  {
   "cell_type": "code",
   "execution_count": 3,
   "metadata": {},
   "outputs": [
    {
     "name": "stdout",
     "output_type": "stream",
     "text": [
      "run id: 0c4fec5fd752413ea9808a392ec087aa, f1: 0.3478\n",
      "run id: de22006e68584f8b80632138d4ccd928, f1: 0.3478\n",
      "run id: 533f3371b707417f8864efcd7d30d060, f1: 0.3478\n",
      "run id: 0e308892254b405c90971e0aab2ef7aa, f1: 0.3478\n",
      "run id: 04239d9115c645c683bb35054f9cd2a5, f1: 0.3478\n"
     ]
    }
   ],
   "source": [
    "for run in runs:\n",
    "    print(f\"run id: {run.info.run_id}, f1: {run.data.metrics['f1']:.4f}\")"
   ]
  },
  {
   "cell_type": "code",
   "execution_count": 4,
   "metadata": {},
   "outputs": [
    {
     "data": {
      "text/plain": [
       "'0c4fec5fd752413ea9808a392ec087aa'"
      ]
     },
     "execution_count": 4,
     "metadata": {},
     "output_type": "execute_result"
    }
   ],
   "source": [
    "runs[0].info.run_id"
   ]
  },
  {
   "cell_type": "code",
   "execution_count": 5,
   "metadata": {},
   "outputs": [
    {
     "name": "stdout",
     "output_type": "stream",
     "text": [
      "runs:/0c4fec5fd752413ea9808a392ec087aa/models_mlflow\n"
     ]
    },
    {
     "name": "stderr",
     "output_type": "stream",
     "text": [
      "Registered model 'MRI_predictor' already exists. Creating a new version of this model...\n",
      "2024/08/18 14:18:21 INFO mlflow.store.model_registry.abstract_store: Waiting up to 300 seconds for model version to finish creation. Model name: MRI_predictor, version 5\n",
      "Created version '5' of model 'MRI_predictor'.\n"
     ]
    },
    {
     "data": {
      "text/plain": [
       "<ModelVersion: aliases=[], creation_timestamp=1723990700897, current_stage='None', description='', last_updated_timestamp=1723990700897, name='MRI_predictor', run_id='0c4fec5fd752413ea9808a392ec087aa', run_link='', source='/workspaces/Testrepo/artifacts/5/0c4fec5fd752413ea9808a392ec087aa/artifacts/models_mlflow', status='READY', status_message='', tags={}, user_id='', version='5'>"
      ]
     },
     "execution_count": 5,
     "metadata": {},
     "output_type": "execute_result"
    }
   ],
   "source": [
    "logged_model = 'runs:/' + runs[0].info.run_id + '/models_mlflow'\n",
    "\n",
    "print(logged_model)\n",
    "\n",
    "# Load model as a PyFuncModel.\n",
    "loaded_model = mlflow.pyfunc.load_model(logged_model)\n",
    "mlflow.register_model(model_uri=logged_model, name=\"MRI_predictor\")"
   ]
  },
  {
   "cell_type": "code",
   "execution_count": 9,
   "metadata": {},
   "outputs": [],
   "source": [
    "with open('../pickle/model.pkl', 'wb') as f_out:\n",
    "    pickle.dump(loaded_model, f_out)\n"
   ]
  },
  {
   "cell_type": "markdown",
   "metadata": {},
   "source": [
    "## Code to test the model output:"
   ]
  },
  {
   "cell_type": "code",
   "execution_count": 7,
   "metadata": {},
   "outputs": [],
   "source": [
    "import pickle\n",
    "with open('../pickle/val.pkl', 'rb') as f_in:\n",
    "    X_val,y_val = pickle.load(f_in)\n"
   ]
  },
  {
   "cell_type": "code",
   "execution_count": null,
   "metadata": {},
   "outputs": [],
   "source": [
    "import pandas as pd\n",
    "patient = {\n",
    "    'm/f': 1,\n",
    "    'age': 99,\n",
    "    'educ':2.0,\n",
    "    'ses': 0.0,\n",
    "    'etiv': 1500,\n",
    "    'nwbv': 0.1,    \n",
    "}\n",
    "X_patient = pd.DataFrame.from_dict([patient])\n",
    "X_patient"
   ]
  },
  {
   "cell_type": "code",
   "execution_count": null,
   "metadata": {},
   "outputs": [],
   "source": [
    "import numpy as np\n",
    "# Predict on a Pandas DataFrame.\n",
    "y_pred = loaded_model.predict(X_patient)\n",
    "\n",
    "dementia_threshold = np.log1p(1.5 / 26)\n",
    "y_pred = (y_pred > dementia_threshold).astype(int)\n",
    "print(y_pred, y_val.to_numpy())"
   ]
  }
 ],
 "metadata": {
  "kernelspec": {
   "display_name": "Python 3",
   "language": "python",
   "name": "python3"
  },
  "language_info": {
   "codemirror_mode": {
    "name": "ipython",
    "version": 3
   },
   "file_extension": ".py",
   "mimetype": "text/x-python",
   "name": "python",
   "nbconvert_exporter": "python",
   "pygments_lexer": "ipython3",
   "version": "3.9.12"
  }
 },
 "nbformat": 4,
 "nbformat_minor": 2
}
